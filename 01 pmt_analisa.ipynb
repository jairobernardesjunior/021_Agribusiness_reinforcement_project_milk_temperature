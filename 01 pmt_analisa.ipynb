{
 "cells": [
  {
   "cell_type": "markdown",
   "metadata": {},
   "source": [
    "## Projeto Milk Temperature\n",
    "\n",
    "### Objective:\n",
    "- In this project we are going to the investigative phase of Milk_Diagnostic (a device for collecting and sending milk data on the farm via SMS), we are going to carry out a survey of the variation in milk temperature over a given period. Here we will make a prediction of these temperatures, using reinforcement learning for the next few minutes to alert both the producer and the collecting company about a possible spike in the temperature of the milk stored on the farm, before the event happens.\n",
    "\n",
    "- Nesse projeto vamos para a fase investigatória do Milk_Diagnostic (aparelho de coleta e envio de dados do leite na fazenda via sms), vamos fazer um levantamento da variação da temperatura do leite em determinado período. Aqui vamos fazer uma predição dessas temperaturas, utilizando aprendizado por reforço para os próximos minutos para alertar tanto o produtor quanto a empresa captadora sobre um possível pico da temperatura do leite armazenado na fazenda, antes que o evento aconteça.\n",
    "\n",
    "### Data Origin:\n",
    "- Dataset: MILK_temperature.TXT\n",
    "\n",
    "- Through the Milk_Diagnostic equipment (device for collecting and sending milk data on the farm via SMS) data on milk temperature, ambient temperature, date, time, humidity, geographic coordinates, are transferred daily from the farm's milk reservoir every 10 minutes (configurable), 24 hours a day, 7 days a week.\n",
    "\n",
    "- Através do equipamento Milk_Diagnostic (aparelho de coleta e envio de dados do leite na fazenda via sms)os dados de temperatura do leite, temperatura ambiente, data, hora, umidade, coordenadas geográficas, são transferidos diariamente do reservatório de leite da fazenda a cada 10 minutos (configurável), 24 horas por dia durante os 7 dias da semana.\n",
    "\n",
    "Aqui está o que as colunas representam:\n",
    "\n",
    "    local: identificador da fazendo origem do leite\n",
    "    data: data da coleta da temperatura\n",
    "    hora: hora, minutos e segundos da coleta da temperatura\n",
    "    lat: latitude do local da fazenda\n",
    "    long: longitude do local da fazenda\n",
    "    umidade: umidade ambiente do local do tanque de leite\n",
    "    t_ex: temperatura ambiente do local do tanque de leite\n",
    "    t1, t2, t3, t4, t5, t6, t7, t8: \n",
    "        temperaturas coletadas dentro do intervalo configurado para envio (10 minutos para esse trabalho)\n"
   ]
  },
  {
   "cell_type": "markdown",
   "metadata": {},
   "source": [
    "- ## Análise exploratória dos dados\n",
    "- ## Preparação dos dados\n",
    "- ## Armazenamento dos dados tratados"
   ]
  },
  {
   "cell_type": "code",
   "execution_count": 254,
   "metadata": {},
   "outputs": [],
   "source": [
    "# maximiza nro de linhas e colunas para exibição\n",
    "# inibe mensagens de warning\n",
    "import pandas as pd\n",
    "pd.set_option('display.max_rows', None) # permite a máxima visualização das linhas em um display\n",
    "pd.set_option('display.max_columns', None) # permite a máxima visualização das colunas em um display\n",
    "import warnings\n",
    "warnings.simplefilter('ignore') # inibe a exibição de avisos de warning"
   ]
  },
  {
   "cell_type": "code",
   "execution_count": 255,
   "metadata": {},
   "outputs": [],
   "source": [
    "# preparação e visualização de dados\n",
    "from matplotlib import pyplot as plt # plotagem gráfica"
   ]
  },
  {
   "cell_type": "code",
   "execution_count": 256,
   "metadata": {},
   "outputs": [],
   "source": [
    "# Lendo dados de cotação da soja baixados em arquivos\n",
    "# juntando os anos de cotação\n",
    "# para uma atualização em 'tempo real' da cotação da bolsa podemos utilizar o quandl da Nasdaq já mencionado anteriormente\n",
    "\n",
    "df_milk = pd.read_csv('dataset/MILK_temperature.csv', sep='p')"
   ]
  },
  {
   "cell_type": "code",
   "execution_count": 257,
   "metadata": {},
   "outputs": [
    {
     "data": {
      "text/plain": [
       "(14327, 16)"
      ]
     },
     "execution_count": 257,
     "metadata": {},
     "output_type": "execute_result"
    }
   ],
   "source": [
    "# verificando a quantidade de linhas e colunas do dataframe\n",
    "df_milk.shape"
   ]
  },
  {
   "cell_type": "code",
   "execution_count": 258,
   "metadata": {},
   "outputs": [
    {
     "data": {
      "text/html": [
       "<div>\n",
       "<style scoped>\n",
       "    .dataframe tbody tr th:only-of-type {\n",
       "        vertical-align: middle;\n",
       "    }\n",
       "\n",
       "    .dataframe tbody tr th {\n",
       "        vertical-align: top;\n",
       "    }\n",
       "\n",
       "    .dataframe thead th {\n",
       "        text-align: right;\n",
       "    }\n",
       "</style>\n",
       "<table border=\"1\" class=\"dataframe\">\n",
       "  <thead>\n",
       "    <tr style=\"text-align: right;\">\n",
       "      <th></th>\n",
       "      <th>local</th>\n",
       "      <th>data</th>\n",
       "      <th>hora</th>\n",
       "      <th>lat</th>\n",
       "      <th>long</th>\n",
       "      <th>umidade</th>\n",
       "      <th>t_ex</th>\n",
       "      <th>t1</th>\n",
       "      <th>t2</th>\n",
       "      <th>t3</th>\n",
       "      <th>t4</th>\n",
       "      <th>t5</th>\n",
       "      <th>t6</th>\n",
       "      <th>t7</th>\n",
       "      <th>t8</th>\n",
       "      <th>Unnamed: 15</th>\n",
       "    </tr>\n",
       "  </thead>\n",
       "  <tbody>\n",
       "    <tr>\n",
       "      <th>0</th>\n",
       "      <td>1</td>\n",
       "      <td>0/ 0/2000</td>\n",
       "      <td>6:36:19</td>\n",
       "      <td>-18.918142</td>\n",
       "      <td>-48.230560</td>\n",
       "      <td>67.000000</td>\n",
       "      <td>26.799999</td>\n",
       "      <td>NAN</td>\n",
       "      <td>10.7400</td>\n",
       "      <td>0.0</td>\n",
       "      <td>0.0</td>\n",
       "      <td>0.0</td>\n",
       "      <td>0.0</td>\n",
       "      <td>0.0</td>\n",
       "      <td>0.0</td>\n",
       "      <td>NaN</td>\n",
       "    </tr>\n",
       "    <tr>\n",
       "      <th>1</th>\n",
       "      <td>1</td>\n",
       "      <td>0/ 0/2000</td>\n",
       "      <td>8:14:46</td>\n",
       "      <td>-18.918184</td>\n",
       "      <td>-48.230553</td>\n",
       "      <td>53.000000</td>\n",
       "      <td>26.700001</td>\n",
       "      <td>NAN</td>\n",
       "      <td>25.0525</td>\n",
       "      <td>0.0</td>\n",
       "      <td>0.0</td>\n",
       "      <td>0.0</td>\n",
       "      <td>0.0</td>\n",
       "      <td>0.0</td>\n",
       "      <td>0.0</td>\n",
       "      <td>NaN</td>\n",
       "    </tr>\n",
       "    <tr>\n",
       "      <th>2</th>\n",
       "      <td>1</td>\n",
       "      <td>0/ 0/2000</td>\n",
       "      <td>8:34:31</td>\n",
       "      <td>-18.918177</td>\n",
       "      <td>-48.230583</td>\n",
       "      <td>44.000000</td>\n",
       "      <td>26.600000</td>\n",
       "      <td>NAN</td>\n",
       "      <td>24.1150</td>\n",
       "      <td>0.0</td>\n",
       "      <td>0.0</td>\n",
       "      <td>0.0</td>\n",
       "      <td>0.0</td>\n",
       "      <td>0.0</td>\n",
       "      <td>0.0</td>\n",
       "      <td>NaN</td>\n",
       "    </tr>\n",
       "  </tbody>\n",
       "</table>\n",
       "</div>"
      ],
      "text/plain": [
       "   local        data      hora        lat       long    umidade       t_ex  \\\n",
       "0      1   0/ 0/2000   6:36:19 -18.918142 -48.230560  67.000000  26.799999   \n",
       "1      1   0/ 0/2000   8:14:46 -18.918184 -48.230553  53.000000  26.700001   \n",
       "2      1   0/ 0/2000   8:34:31 -18.918177 -48.230583  44.000000  26.600000   \n",
       "\n",
       "          t1       t2   t3   t4   t5   t6   t7   t8  Unnamed: 15  \n",
       "0        NAN  10.7400  0.0  0.0  0.0  0.0  0.0  0.0          NaN  \n",
       "1        NAN  25.0525  0.0  0.0  0.0  0.0  0.0  0.0          NaN  \n",
       "2        NAN  24.1150  0.0  0.0  0.0  0.0  0.0  0.0          NaN  "
      ]
     },
     "execution_count": 258,
     "metadata": {},
     "output_type": "execute_result"
    }
   ],
   "source": [
    "# verificando as primeiras linhas de dados\n",
    "df_milk.head(3)"
   ]
  },
  {
   "cell_type": "code",
   "execution_count": 259,
   "metadata": {},
   "outputs": [],
   "source": [
    "# eliminando a última coluna \n",
    "colunas = list(df_milk.columns)\n",
    "\n",
    "df_milk = df_milk[colunas[:15]]"
   ]
  },
  {
   "cell_type": "code",
   "execution_count": 260,
   "metadata": {},
   "outputs": [
    {
     "name": "stdout",
     "output_type": "stream",
     "text": [
      "<class 'pandas.core.frame.DataFrame'>\n",
      "RangeIndex: 14327 entries, 0 to 14326\n",
      "Data columns (total 15 columns):\n",
      " #   Column   Non-Null Count  Dtype  \n",
      "---  ------   --------------  -----  \n",
      " 0   local    14327 non-null  int64  \n",
      " 1   data     14327 non-null  object \n",
      " 2   hora     14327 non-null  object \n",
      " 3   lat      14327 non-null  float64\n",
      " 4   long     14327 non-null  float64\n",
      " 5   umidade  14327 non-null  object \n",
      " 6   t_ex     14327 non-null  object \n",
      " 7   t1       14327 non-null  object \n",
      " 8   t2       14327 non-null  float64\n",
      " 9   t3       14327 non-null  float64\n",
      " 10  t4       14327 non-null  float64\n",
      " 11  t5       14327 non-null  float64\n",
      " 12  t6       14327 non-null  float64\n",
      " 13  t7       14327 non-null  float64\n",
      " 14  t8       14327 non-null  float64\n",
      "dtypes: float64(9), int64(1), object(5)\n",
      "memory usage: 1.6+ MB\n"
     ]
    }
   ],
   "source": [
    "df_milk.info()"
   ]
  },
  {
   "cell_type": "code",
   "execution_count": 261,
   "metadata": {},
   "outputs": [
    {
     "data": {
      "text/plain": [
       "array([' 0/ 0/2000', ' 1/ 8/2023', ' 1/ 9/2023', ' 1/10/2023',\n",
       "       ' 1/11/2023', ' 2/ 8/2023', ' 2/10/2023', ' 2/11/2023',\n",
       "       ' 3/ 8/2023', ' 3/10/2023', ' 3/11/2023', ' 4/ 8/2023',\n",
       "       ' 4/ 9/2023', ' 4/10/2023', ' 4/11/2023', ' 5/ 8/2023',\n",
       "       ' 5/10/2023', ' 5/11/2023', ' 5/12/2023', ' 6/ 8/2023',\n",
       "       ' 6/10/2023', ' 6/11/2023', ' 7/ 8/2023', ' 7/10/2023',\n",
       "       ' 7/11/2023', ' 8/ 9/2023', ' 8/10/2023', ' 8/11/2023',\n",
       "       ' 9/ 8/2023', ' 9/ 9/2023', ' 9/10/2023', ' 9/11/2023',\n",
       "       ' 9/12/2023', '10/ 9/2023', '10/10/2023', '10/11/2023',\n",
       "       '11/ 8/2023', '11/ 9/2023', '11/10/2023', '12/ 9/2023',\n",
       "       '12/10/2023', '13/ 7/2023', '13/ 8/2023', '13/ 9/2023',\n",
       "       '13/10/2023', '14/ 7/2023', '14/ 8/2023', '14/ 9/2023',\n",
       "       '14/10/2023', '15/ 7/2023', '15/ 8/2023', '15/ 9/2023',\n",
       "       '15/10/2023', '16/ 7/2023', '16/ 9/2023', '16/10/2023',\n",
       "       '17/ 7/2023', '17/ 9/2023', '17/10/2023', '18/ 7/2023',\n",
       "       '18/ 9/2023', '18/10/2023', '19/ 7/2023', '19/ 9/2023',\n",
       "       '19/10/2023', '20/ 7/2023', '20/ 9/2023', '20/10/2023',\n",
       "       '21/ 7/2023', '21/ 9/2023', '21/10/2023', '22/ 7/2023',\n",
       "       '22/ 8/2023', '22/ 9/2023', '22/10/2023', '23/ 7/2023',\n",
       "       '23/ 8/2023', '23/ 9/2023', '23/10/2023', '24/ 7/2023',\n",
       "       '24/ 9/2023', '24/10/2023', '25/ 7/2023', '25/ 9/2023',\n",
       "       '25/10/2023', '26/ 7/2023', '26/ 9/2023', '26/10/2023',\n",
       "       '27/ 7/2023', '27/ 9/2023', '27/10/2023', '28/ 7/2023',\n",
       "       '28/ 8/2023', '28/ 9/2023', '28/10/2023', '29/ 7/2023',\n",
       "       '29/ 8/2023', '29/ 9/2023', '29/10/2023', '30/ 7/2023',\n",
       "       '30/ 8/2023', '30/ 9/2023', '30/10/2023', '31/ 7/2023',\n",
       "       '31/ 8/2023', '31/10/2023'], dtype=object)"
      ]
     },
     "execution_count": 261,
     "metadata": {},
     "output_type": "execute_result"
    }
   ],
   "source": [
    "# reconhecendo as primeiras linhas do dataframe\n",
    "df_milk.data.unique()"
   ]
  },
  {
   "cell_type": "code",
   "execution_count": 262,
   "metadata": {},
   "outputs": [],
   "source": [
    "# eliminando data inválida\n",
    "df_remove = df_milk.loc[(df_milk['data'] == ' 0/ 0/2000')]\n",
    "df_milk = df_milk.drop(df_remove.index)"
   ]
  },
  {
   "cell_type": "code",
   "execution_count": 263,
   "metadata": {},
   "outputs": [],
   "source": [
    "# troca espaços por zero na data\n",
    "def substitui_espacos_data(data): \n",
    "    return data.replace(' ', '0')"
   ]
  },
  {
   "cell_type": "code",
   "execution_count": 264,
   "metadata": {},
   "outputs": [],
   "source": [
    "# troca espaços por zero na hora e modifica hora inválida para 00:00:59\n",
    "def substitui_espacos_hora(hora): \n",
    "    hora = hora.replace(' ', '0')\n",
    "    \n",
    "    if hora[3] == ':':\n",
    "        hora = '0' + hora[2:]\n",
    "\n",
    "    return hora"
   ]
  },
  {
   "cell_type": "code",
   "execution_count": 265,
   "metadata": {},
   "outputs": [],
   "source": [
    "df_milk['data'] = df_milk['data'].apply(substitui_espacos_data)\n",
    "df_milk['hora'] = df_milk['hora'].apply(substitui_espacos_hora)"
   ]
  },
  {
   "cell_type": "code",
   "execution_count": 266,
   "metadata": {},
   "outputs": [],
   "source": [
    "df_milk['data_hora'] = df_milk['data'] + ' ' + df_milk['hora']"
   ]
  },
  {
   "cell_type": "code",
   "execution_count": 267,
   "metadata": {},
   "outputs": [],
   "source": [
    "# convertendo o tipo de dados da variável\n",
    "df_milk['t1'] = df_milk['t1'].astype('float64')\n",
    "df_milk['umidade'] = df_milk['umidade'].astype('float64')\n",
    "df_milk['t_ex'] = df_milk['t_ex'].astype('float64')\n",
    "df_milk['data_hora'] = df_milk['data_hora'].astype('datetime64[ns]')"
   ]
  },
  {
   "cell_type": "code",
   "execution_count": 268,
   "metadata": {},
   "outputs": [
    {
     "data": {
      "text/plain": [
       "local  data   hora   lat    long   umidade  t_ex   t1     t2     t3     t4     t5     t6     t7     t8     data_hora\n",
       "False  False  False  False  False  False    False  False  False  False  False  False  False  False  False  False        14293\n",
       "                                                   True   False  False  False  False  False  False  False  False           23\n",
       "Name: count, dtype: int64"
      ]
     },
     "execution_count": 268,
     "metadata": {},
     "output_type": "execute_result"
    }
   ],
   "source": [
    "# verificando a existência de nulos\n",
    "df_milk.isnull().value_counts()"
   ]
  },
  {
   "cell_type": "code",
   "execution_count": 269,
   "metadata": {},
   "outputs": [
    {
     "name": "stdout",
     "output_type": "stream",
     "text": [
      "<class 'pandas.core.frame.DataFrame'>\n",
      "RangeIndex: 14316 entries, 11 to 14326\n",
      "Data columns (total 16 columns):\n",
      " #   Column     Non-Null Count  Dtype         \n",
      "---  ------     --------------  -----         \n",
      " 0   local      14316 non-null  int64         \n",
      " 1   data       14316 non-null  object        \n",
      " 2   hora       14316 non-null  object        \n",
      " 3   lat        14316 non-null  float64       \n",
      " 4   long       14316 non-null  float64       \n",
      " 5   umidade    14316 non-null  float64       \n",
      " 6   t_ex       14316 non-null  float64       \n",
      " 7   t1         14293 non-null  float64       \n",
      " 8   t2         14316 non-null  float64       \n",
      " 9   t3         14316 non-null  float64       \n",
      " 10  t4         14316 non-null  float64       \n",
      " 11  t5         14316 non-null  float64       \n",
      " 12  t6         14316 non-null  float64       \n",
      " 13  t7         14316 non-null  float64       \n",
      " 14  t8         14316 non-null  float64       \n",
      " 15  data_hora  14316 non-null  datetime64[ns]\n",
      "dtypes: datetime64[ns](1), float64(12), int64(1), object(2)\n",
      "memory usage: 1.7+ MB\n"
     ]
    }
   ],
   "source": [
    "# verificando redefinição do tipo de dado da variável(coluna) Date\n",
    "# reconhecendo as variáveis disponíveis\n",
    "# verificando se há dados nulos\n",
    "df_milk.info()"
   ]
  },
  {
   "cell_type": "code",
   "execution_count": 270,
   "metadata": {},
   "outputs": [
    {
     "data": {
      "text/plain": [
       "local         0\n",
       "data          0\n",
       "hora          0\n",
       "lat           0\n",
       "long          0\n",
       "umidade       0\n",
       "t_ex          0\n",
       "t1           23\n",
       "t2            0\n",
       "t3            0\n",
       "t4            0\n",
       "t5            0\n",
       "t6            0\n",
       "t7            0\n",
       "t8            0\n",
       "data_hora     0\n",
       "dtype: int64"
      ]
     },
     "execution_count": 270,
     "metadata": {},
     "output_type": "execute_result"
    }
   ],
   "source": [
    "# confirmando a inexistência de nulos\n",
    "df_milk.isnull().sum()"
   ]
  },
  {
   "cell_type": "code",
   "execution_count": 271,
   "metadata": {},
   "outputs": [],
   "source": [
    "# apagando linhas com nulos\n",
    "df_milk = df_milk.dropna()"
   ]
  },
  {
   "cell_type": "code",
   "execution_count": 272,
   "metadata": {},
   "outputs": [
    {
     "data": {
      "text/plain": [
       "4"
      ]
     },
     "execution_count": 272,
     "metadata": {},
     "output_type": "execute_result"
    }
   ],
   "source": [
    "# verificando se existe registros duplicados\n",
    "df_milk.duplicated().sum()"
   ]
  },
  {
   "cell_type": "code",
   "execution_count": 273,
   "metadata": {},
   "outputs": [],
   "source": [
    "# apagando linhas duplicadas\n",
    "df_milk = df_milk.drop_duplicates()"
   ]
  },
  {
   "cell_type": "code",
   "execution_count": 274,
   "metadata": {},
   "outputs": [
    {
     "data": {
      "text/plain": [
       "(14289, 16)"
      ]
     },
     "execution_count": 274,
     "metadata": {},
     "output_type": "execute_result"
    }
   ],
   "source": [
    "df_milk.shape"
   ]
  },
  {
   "cell_type": "code",
   "execution_count": null,
   "metadata": {},
   "outputs": [
    {
     "ename": "AttributeError",
     "evalue": "'Series' object has no attribute 'Year'",
     "output_type": "error",
     "traceback": [
      "\u001b[1;31m---------------------------------------------------------------------------\u001b[0m",
      "\u001b[1;31mAttributeError\u001b[0m                            Traceback (most recent call last)",
      "\u001b[1;32m~\\AppData\\Local\\Temp\\ipykernel_13832\\1844037515.py\u001b[0m in \u001b[0;36m?\u001b[1;34m()\u001b[0m\n\u001b[0;32m      1\u001b[0m \u001b[1;31m# plotando a evolução de algumas valores mais importantes na transação de títulos (contratos) por ano\u001b[0m\u001b[1;33m\u001b[0m\u001b[1;33m\u001b[0m\u001b[0m\n\u001b[0;32m      2\u001b[0m \u001b[1;31m# obs: média anual dos valores\u001b[0m\u001b[1;33m\u001b[0m\u001b[1;33m\u001b[0m\u001b[0m\n\u001b[0;32m      3\u001b[0m \u001b[0mfig\u001b[0m\u001b[1;33m,\u001b[0m\u001b[0max\u001b[0m \u001b[1;33m=\u001b[0m \u001b[0mplt\u001b[0m\u001b[1;33m.\u001b[0m\u001b[0msubplots\u001b[0m\u001b[1;33m(\u001b[0m\u001b[0mncols\u001b[0m\u001b[1;33m=\u001b[0m\u001b[1;36m1\u001b[0m\u001b[1;33m,\u001b[0m\u001b[0mfigsize\u001b[0m\u001b[1;33m=\u001b[0m\u001b[1;33m(\u001b[0m\u001b[1;36m10\u001b[0m\u001b[1;33m,\u001b[0m\u001b[1;36m5\u001b[0m\u001b[1;33m)\u001b[0m\u001b[1;33m)\u001b[0m\u001b[1;33m\u001b[0m\u001b[1;33m\u001b[0m\u001b[0m\n\u001b[0;32m      4\u001b[0m \u001b[1;33m\u001b[0m\u001b[0m\n\u001b[1;32m----> 5\u001b[1;33m \u001b[0mplt\u001b[0m\u001b[1;33m.\u001b[0m\u001b[0mplot\u001b[0m\u001b[1;33m(\u001b[0m\u001b[0mdf_milk\u001b[0m\u001b[1;33m.\u001b[0m\u001b[0mdata_hora\u001b[0m\u001b[1;33m.\u001b[0m\u001b[0mYear\u001b[0m\u001b[1;33m,\u001b[0m \u001b[0mdf_milk_ano\u001b[0m\u001b[1;33m.\u001b[0m\u001b[0mClose\u001b[0m\u001b[1;33m*\u001b[0m\u001b[1;36m10\u001b[0m\u001b[1;33m,\u001b[0m \u001b[0mlabel\u001b[0m \u001b[1;33m=\u001b[0m \u001b[1;34m\"(Preço médio)*10 de fechamento no ano\"\u001b[0m\u001b[1;33m,\u001b[0m \u001b[0mlinewidth\u001b[0m\u001b[1;33m=\u001b[0m\u001b[1;36m4\u001b[0m\u001b[1;33m,\u001b[0m \u001b[0mcolor\u001b[0m\u001b[1;33m=\u001b[0m\u001b[1;34m'red'\u001b[0m\u001b[1;33m)\u001b[0m\u001b[1;33m\u001b[0m\u001b[1;33m\u001b[0m\u001b[0m\n\u001b[0m\u001b[0;32m      6\u001b[0m \u001b[0mplt\u001b[0m\u001b[1;33m.\u001b[0m\u001b[0mplot\u001b[0m\u001b[1;33m(\u001b[0m\u001b[0mdf_milk_ano\u001b[0m\u001b[1;33m.\u001b[0m\u001b[0mYear\u001b[0m\u001b[1;33m,\u001b[0m \u001b[0mdf_milk_ano\u001b[0m\u001b[1;33m.\u001b[0m\u001b[0mVolume\u001b[0m\u001b[1;33m,\u001b[0m \u001b[0mlabel\u001b[0m \u001b[1;33m=\u001b[0m \u001b[1;34m\"Nro médio de títulos no ano\"\u001b[0m\u001b[1;33m,\u001b[0m \u001b[0mlinewidth\u001b[0m\u001b[1;33m=\u001b[0m\u001b[1;36m4\u001b[0m\u001b[1;33m,\u001b[0m \u001b[0mcolor\u001b[0m\u001b[1;33m=\u001b[0m\u001b[1;34m'blue'\u001b[0m\u001b[1;33m)\u001b[0m\u001b[1;33m\u001b[0m\u001b[1;33m\u001b[0m\u001b[0m\n\u001b[0;32m      7\u001b[0m \u001b[0mplt\u001b[0m\u001b[1;33m.\u001b[0m\u001b[0mplot\u001b[0m\u001b[1;33m(\u001b[0m\u001b[0mdf_milk_ano\u001b[0m\u001b[1;33m.\u001b[0m\u001b[0mYear\u001b[0m\u001b[1;33m,\u001b[0m \u001b[0mdf_milk_ano\u001b[0m\u001b[1;33m.\u001b[0m\u001b[0mOpen_Interest\u001b[0m\u001b[1;33m,\u001b[0m \u001b[0mlabel\u001b[0m \u001b[1;33m=\u001b[0m \u001b[1;34m\"Fluxo médio de vrs no ano\"\u001b[0m\u001b[1;33m,\u001b[0m \u001b[0mlinewidth\u001b[0m\u001b[1;33m=\u001b[0m\u001b[1;36m4\u001b[0m\u001b[1;33m,\u001b[0m \u001b[0mcolor\u001b[0m\u001b[1;33m=\u001b[0m\u001b[1;34m'orange'\u001b[0m\u001b[1;33m)\u001b[0m\u001b[1;33m\u001b[0m\u001b[1;33m\u001b[0m\u001b[0m\n\u001b[0;32m      8\u001b[0m \u001b[1;33m\u001b[0m\u001b[0m\n",
      "\u001b[1;32mc:\\Users\\KR\\AppData\\Local\\Programs\\Python\\Python311\\Lib\\site-packages\\pandas\\core\\generic.py\u001b[0m in \u001b[0;36m?\u001b[1;34m(self, name)\u001b[0m\n\u001b[0;32m   6295\u001b[0m             \u001b[1;32mand\u001b[0m \u001b[0mname\u001b[0m \u001b[1;32mnot\u001b[0m \u001b[1;32min\u001b[0m \u001b[0mself\u001b[0m\u001b[1;33m.\u001b[0m\u001b[0m_accessors\u001b[0m\u001b[1;33m\u001b[0m\u001b[1;33m\u001b[0m\u001b[0m\n\u001b[0;32m   6296\u001b[0m             \u001b[1;32mand\u001b[0m \u001b[0mself\u001b[0m\u001b[1;33m.\u001b[0m\u001b[0m_info_axis\u001b[0m\u001b[1;33m.\u001b[0m\u001b[0m_can_hold_identifiers_and_holds_name\u001b[0m\u001b[1;33m(\u001b[0m\u001b[0mname\u001b[0m\u001b[1;33m)\u001b[0m\u001b[1;33m\u001b[0m\u001b[1;33m\u001b[0m\u001b[0m\n\u001b[0;32m   6297\u001b[0m         ):\n\u001b[0;32m   6298\u001b[0m             \u001b[1;32mreturn\u001b[0m \u001b[0mself\u001b[0m\u001b[1;33m[\u001b[0m\u001b[0mname\u001b[0m\u001b[1;33m]\u001b[0m\u001b[1;33m\u001b[0m\u001b[1;33m\u001b[0m\u001b[0m\n\u001b[1;32m-> 6299\u001b[1;33m         \u001b[1;32mreturn\u001b[0m \u001b[0mobject\u001b[0m\u001b[1;33m.\u001b[0m\u001b[0m__getattribute__\u001b[0m\u001b[1;33m(\u001b[0m\u001b[0mself\u001b[0m\u001b[1;33m,\u001b[0m \u001b[0mname\u001b[0m\u001b[1;33m)\u001b[0m\u001b[1;33m\u001b[0m\u001b[1;33m\u001b[0m\u001b[0m\n\u001b[0m",
      "\u001b[1;31mAttributeError\u001b[0m: 'Series' object has no attribute 'Year'"
     ]
    },
    {
     "data": {
      "image/png": "[encoded data removed]",
      "text/plain": [
       "<Figure size 1000x500 with 1 Axes>"
      ]
     },
     "metadata": {},
     "output_type": "display_data"
    }
   ],
   "source": [
    "# plotando a evolução de algumas valores mais importantes na transação de títulos (contratos) por ano\n",
    "# obs: média anual dos valores\n",
    "fig,ax = plt.subplots(ncols=1,figsize=(10,5))\n",
    "\n",
    "plt.plot(df_milk.data_hora, df_milk.data_hora, label = \"(Preço médio)*10 de fechamento no ano\", linewidth=4, color='red') \n",
    "plt.plot(df_milk.data_hora, df_milk.data_hora, label = \"Nro médio de títulos no ano\", linewidth=4, color='blue') \n",
    "plt.plot(df_milk.data_hora, df_milk.data_hora, label = \"Fluxo médio de vrs no ano\", linewidth=4, color='orange')  \n",
    "\n",
    "plt.title('Valores médio no ano')\n",
    "plt.legend() \n",
    "\n",
    "plt.savefig('grafic_image/valores_medio_ano.png', format='png')\n",
    "plt.show()"
   ]
  },
  {
   "cell_type": "markdown",
   "metadata": {},
   "source": [
    "Observamos que a média dos valores de fechamento, nro de títulos negociados e fluxo de valores transacionados de 1999 a 2020 tiveram um crescimento mais uniforme, tendo uma alta mais brusca de 2020 a 2021.\n",
    "*Obs: o preço médio de fechamento foi multiplicado por 10 para fins de facilitar a comparação da curva da evolução dos valores com as demais curvas."
   ]
  },
  {
   "cell_type": "code",
   "execution_count": null,
   "metadata": {},
   "outputs": [],
   "source": [
    "# salva os dados tratados em arquivo csv organizado pelo índice\n",
    "df_milk.sort_index().to_csv('df_treated/df_milk_treated.csv', index=False)"
   ]
  }
 ],
 "metadata": {
  "kernelspec": {
   "display_name": "Python 3",
   "language": "python",
   "name": "python3"
  },
  "language_info": {
   "codemirror_mode": {
    "name": "ipython",
    "version": 3
   },
   "file_extension": ".py",
   "mimetype": "text/x-python",
   "name": "python",
   "nbconvert_exporter": "python",
   "pygments_lexer": "ipython3",
   "version": "3.11.5"
  }
 },
 "nbformat": 4,
 "nbformat_minor": 2
}
