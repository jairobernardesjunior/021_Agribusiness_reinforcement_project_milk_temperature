{
 "cells": [
  {
   "cell_type": "markdown",
   "metadata": {},
   "source": [
    "## Projeto Milk Temperature\n",
    "\n",
    "### Objective:\n",
    "- In this project we are going to the investigative phase of Milk_Diagnostic (a device for collecting and sending milk data on the farm via SMS), we are going to carry out a survey of the variation in milk temperature over a given period. Here we will make a prediction of these temperatures, using reinforcement learning for the next few minutes to alert both the producer and the collecting company about a possible spike in the temperature of the milk stored on the farm, before the event happens.\n",
    "\n",
    "- Nesse projeto vamos para a fase investigatória do Milk_Diagnostic (aparelho de coleta e envio de dados do leite na fazenda via sms), vamos fazer um levantamento da variação da temperatura do leite em determinado período. Aqui vamos fazer uma predição dessas temperaturas, utilizando aprendizado por reforço para os próximos minutos para alertar tanto o produtor quanto a empresa captadora sobre um possível pico da temperatura do leite armazenado na fazenda, antes que o evento aconteça.\n",
    "\n",
    "### Data Origin:\n",
    "- Dataset: MILK_temperature.TXT\n",
    "\n",
    "- Through the Milk_Diagnostic equipment (device for collecting and sending milk data on the farm via SMS) data on milk temperature, ambient temperature, date, time, humidity, geographic coordinates, are transferred daily from the farm's milk reservoir every 10 minutes (configurable), 24 hours a day, 7 days a week.\n",
    "\n",
    "- Através do equipamento Milk_Diagnostic (aparelho de coleta e envio de dados do leite na fazenda via sms)os dados de temperatura do leite, temperatura ambiente, data, hora, umidade, coordenadas geográficas, são transferidos diariamente do reservatório de leite da fazenda a cada 10 minutos (configurável), 24 horas por dia durante os 7 dias da semana.\n",
    "\n",
    "- Aqui está o que as colunas representam:\n",
    "\n",
    "    local: identificador da fazendo origem do leite\n",
    "    data: data da coleta da temperatura\n",
    "    hora: hora, minutos e segundos da coleta da temperatura\n",
    "    lat: latitude do local da fazenda\n",
    "    long: longitude do local da fazenda\n",
    "    umidade: umidade ambiente do local do tanque de leite\n",
    "    t_ex: temperatura ambiente do local do tanque de leite\n",
    "    t1, t2, t3, t4, t5, t6, t7, t8: \n",
    "        temperaturas coletadas dentro do intervalo configurado para envio (10 minutos para esse trabalho)\n"
   ]
  },
  {
   "cell_type": "markdown",
   "metadata": {},
   "source": [
    "- ## Análise exploratória dos dados\n",
    "- ## Preparação dos dados\n",
    "- ## Armazenamento dos dados tratados"
   ]
  },
  {
   "cell_type": "code",
   "execution_count": 4,
   "metadata": {},
   "outputs": [],
   "source": [
    "# maximiza nro de linhas e colunas para exibição\n",
    "# inibe mensagens de warning\n",
    "import pandas as pd\n",
    "pd.set_option('display.max_rows', None) # permite a máxima visualização das linhas em um display\n",
    "pd.set_option('display.max_columns', None) # permite a máxima visualização das colunas em um display\n",
    "import warnings\n",
    "warnings.simplefilter('ignore') # inibe a exibição de avisos de warning"
   ]
  },
  {
   "cell_type": "code",
   "execution_count": 5,
   "metadata": {},
   "outputs": [],
   "source": [
    "# preparação e visualização de dados\n",
    "from matplotlib import pyplot as plt # plotagem gráfica"
   ]
  },
  {
   "cell_type": "code",
   "execution_count": 6,
   "metadata": {},
   "outputs": [],
   "source": [
    "# Lendo dados de cotação da soja baixados em arquivos\n",
    "# juntando os anos de cotação\n",
    "# para uma atualização em 'tempo real' da cotação da bolsa podemos utilizar o quandl da Nasdaq já mencionado anteriormente\n",
    "\n",
    "df_milk = pd.read_csv('dataset/MILK_temperature.csv', sep='p')"
   ]
  },
  {
   "cell_type": "code",
   "execution_count": 7,
   "metadata": {},
   "outputs": [
    {
     "data": {
      "text/plain": [
       "(14327, 16)"
      ]
     },
     "execution_count": 7,
     "metadata": {},
     "output_type": "execute_result"
    }
   ],
   "source": [
    "# verificando a quantidade de linhas e colunas do dataframe\n",
    "df_milk.shape"
   ]
  },
  {
   "cell_type": "code",
   "execution_count": 13,
   "metadata": {},
   "outputs": [
    {
     "data": {
      "text/plain": [
       "local  data   hora   lat    long   umidade  t_ex   t1     t2     t3     t4     t5     t6     t7     t8     Unnamed: 15\n",
       "False  False  False  False  False  False    False  False  False  False  False  False  False  False  False  True           14327\n",
       "Name: count, dtype: int64"
      ]
     },
     "execution_count": 13,
     "metadata": {},
     "output_type": "execute_result"
    }
   ],
   "source": [
    "df_milk.isnull().value_counts()"
   ]
  },
  {
   "cell_type": "code",
   "execution_count": null,
   "metadata": {},
   "outputs": [
    {
     "data": {
      "text/plain": [
       "array([' 0/ 0/2000', ' 1/ 8/2023', ' 1/ 9/2023', ' 1/10/2023',\n",
       "       ' 1/11/2023', ' 2/ 8/2023', ' 2/10/2023', ' 2/11/2023',\n",
       "       ' 3/ 8/2023', ' 3/10/2023', ' 3/11/2023', ' 4/ 8/2023',\n",
       "       ' 4/ 9/2023', ' 4/10/2023', ' 4/11/2023', ' 5/ 8/2023',\n",
       "       ' 5/10/2023', ' 5/11/2023', ' 5/12/2023', ' 6/ 8/2023',\n",
       "       ' 6/10/2023', ' 6/11/2023', ' 7/ 8/2023', ' 7/10/2023',\n",
       "       ' 7/11/2023', ' 8/ 9/2023', ' 8/10/2023', ' 8/11/2023',\n",
       "       ' 9/ 8/2023', ' 9/ 9/2023', ' 9/10/2023', ' 9/11/2023',\n",
       "       ' 9/12/2023', '10/ 9/2023', '10/10/2023', '10/11/2023',\n",
       "       '11/ 8/2023', '11/ 9/2023', '11/10/2023', '12/ 9/2023',\n",
       "       '12/10/2023', '13/ 7/2023', '13/ 8/2023', '13/ 9/2023',\n",
       "       '13/10/2023', '14/ 7/2023', '14/ 8/2023', '14/ 9/2023',\n",
       "       '14/10/2023', '15/ 7/2023', '15/ 8/2023', '15/ 9/2023',\n",
       "       '15/10/2023', '16/ 7/2023', '16/ 9/2023', '16/10/2023',\n",
       "       '17/ 7/2023', '17/ 9/2023', '17/10/2023', '18/ 7/2023',\n",
       "       '18/ 9/2023', '18/10/2023', '19/ 7/2023', '19/ 9/2023',\n",
       "       '19/10/2023', '20/ 7/2023', '20/ 9/2023', '20/10/2023',\n",
       "       '21/ 7/2023', '21/ 9/2023', '21/10/2023', '22/ 7/2023',\n",
       "       '22/ 8/2023', '22/ 9/2023', '22/10/2023', '23/ 7/2023',\n",
       "       '23/ 8/2023', '23/ 9/2023', '23/10/2023', '24/ 7/2023',\n",
       "       '24/ 9/2023', '24/10/2023', '25/ 7/2023', '25/ 9/2023',\n",
       "       '25/10/2023', '26/ 7/2023', '26/ 9/2023', '26/10/2023',\n",
       "       '27/ 7/2023', '27/ 9/2023', '27/10/2023', '28/ 7/2023',\n",
       "       '28/ 8/2023', '28/ 9/2023', '28/10/2023', '29/ 7/2023',\n",
       "       '29/ 8/2023', '29/ 9/2023', '29/10/2023', '30/ 7/2023',\n",
       "       '30/ 8/2023', '30/ 9/2023', '30/10/2023', '31/ 7/2023',\n",
       "       '31/ 8/2023', '31/10/2023'], dtype=object)"
      ]
     },
     "execution_count": 17,
     "metadata": {},
     "output_type": "execute_result"
    }
   ],
   "source": [
    "# reconhecendo as primeiras linhas do dataframe\n",
    "df_milk.data.unique()"
   ]
  },
  {
   "cell_type": "code",
   "execution_count": null,
   "metadata": {},
   "outputs": [],
   "source": [
    "# convertendo o tipo de dados da variável Date para datetime\n",
    "df_milk['Date'] = df_milk['Date'].astype('datetime64[ns]')"
   ]
  },
  {
   "cell_type": "code",
   "execution_count": null,
   "metadata": {},
   "outputs": [
    {
     "name": "stdout",
     "output_type": "stream",
     "text": [
      "<class 'pandas.core.frame.DataFrame'>\n",
      "RangeIndex: 14327 entries, 0 to 14326\n",
      "Data columns (total 16 columns):\n",
      " #   Column       Non-Null Count  Dtype  \n",
      "---  ------       --------------  -----  \n",
      " 0   local        14327 non-null  int64  \n",
      " 1   data         14327 non-null  object \n",
      " 2   hora         14327 non-null  object \n",
      " 3   lat          14327 non-null  float64\n",
      " 4   long         14327 non-null  float64\n",
      " 5   umidade      14327 non-null  object \n",
      " 6   t_ex         14327 non-null  object \n",
      " 7   t1           14327 non-null  object \n",
      " 8   t2           14327 non-null  float64\n",
      " 9   t3           14327 non-null  float64\n",
      " 10  t4           14327 non-null  float64\n",
      " 11  t5           14327 non-null  float64\n",
      " 12  t6           14327 non-null  float64\n",
      " 13  t7           14327 non-null  float64\n",
      " 14  t8           14327 non-null  float64\n",
      " 15  Unnamed: 15  0 non-null      float64\n",
      "dtypes: float64(10), int64(1), object(5)\n",
      "memory usage: 1.7+ MB\n"
     ]
    }
   ],
   "source": [
    "# verificando redefinição do tipo de dado da variável(coluna) Date\n",
    "# reconhecendo as variáveis disponíveis\n",
    "# verificando se há dados nulos\n",
    "df_milk.info()"
   ]
  },
  {
   "cell_type": "markdown",
   "metadata": {},
   "source": [
    "- Observando que não há nulos nas variáveis."
   ]
  },
  {
   "cell_type": "code",
   "execution_count": null,
   "metadata": {},
   "outputs": [
    {
     "data": {
      "text/plain": [
       "Date             0\n",
       "Open             0\n",
       "High             0\n",
       "Low              0\n",
       "Close            0\n",
       "Volume           0\n",
       "Open Interest    0\n",
       "dtype: int64"
      ]
     },
     "execution_count": 9,
     "metadata": {},
     "output_type": "execute_result"
    }
   ],
   "source": [
    "# confirmando a inexistência de nulos\n",
    "df_milk.isnull().sum()"
   ]
  },
  {
   "cell_type": "markdown",
   "metadata": {},
   "source": [
    "- Confirmando, através da função isnull(), que não existem nulos no dataframe."
   ]
  },
  {
   "cell_type": "code",
   "execution_count": null,
   "metadata": {},
   "outputs": [
    {
     "data": {
      "text/plain": [
       "0"
      ]
     },
     "execution_count": 10,
     "metadata": {},
     "output_type": "execute_result"
    }
   ],
   "source": [
    "# verificando se existe registros duplicados\n",
    "df_milk.duplicated().sum()"
   ]
  },
  {
   "cell_type": "markdown",
   "metadata": {},
   "source": [
    "Não existe linhas duplicadas"
   ]
  },
  {
   "cell_type": "code",
   "execution_count": null,
   "metadata": {},
   "outputs": [],
   "source": [
    "# renomeando algumas colunas\n",
    "df_milk.columns = ['Date', 'Open', 'High', 'Low', 'Close', 'Volume', 'Open_Interest']"
   ]
  },
  {
   "cell_type": "code",
   "execution_count": null,
   "metadata": {},
   "outputs": [],
   "source": [
    "# criando a coluna Year\n",
    "df_milk['Year'] = df_milk['Date'].dt.year"
   ]
  },
  {
   "cell_type": "code",
   "execution_count": null,
   "metadata": {},
   "outputs": [
    {
     "data": {
      "text/html": [
       "<div>\n",
       "<style scoped>\n",
       "    .dataframe tbody tr th:only-of-type {\n",
       "        vertical-align: middle;\n",
       "    }\n",
       "\n",
       "    .dataframe tbody tr th {\n",
       "        vertical-align: top;\n",
       "    }\n",
       "\n",
       "    .dataframe thead th {\n",
       "        text-align: right;\n",
       "    }\n",
       "</style>\n",
       "<table border=\"1\" class=\"dataframe\">\n",
       "  <thead>\n",
       "    <tr style=\"text-align: right;\">\n",
       "      <th></th>\n",
       "      <th>Date</th>\n",
       "      <th>Open</th>\n",
       "      <th>High</th>\n",
       "      <th>Low</th>\n",
       "      <th>Close</th>\n",
       "      <th>Volume</th>\n",
       "      <th>Open_Interest</th>\n",
       "      <th>Year</th>\n",
       "    </tr>\n",
       "  </thead>\n",
       "  <tbody>\n",
       "    <tr>\n",
       "      <th>0</th>\n",
       "      <td>2000-01-14</td>\n",
       "      <td>480.0</td>\n",
       "      <td>490.00</td>\n",
       "      <td>480.00</td>\n",
       "      <td>485.50</td>\n",
       "      <td>992.0</td>\n",
       "      <td>175.0</td>\n",
       "      <td>2000</td>\n",
       "    </tr>\n",
       "    <tr>\n",
       "      <th>1</th>\n",
       "      <td>2000-01-13</td>\n",
       "      <td>472.5</td>\n",
       "      <td>483.50</td>\n",
       "      <td>471.00</td>\n",
       "      <td>481.75</td>\n",
       "      <td>1821.0</td>\n",
       "      <td>1296.0</td>\n",
       "      <td>2000</td>\n",
       "    </tr>\n",
       "    <tr>\n",
       "      <th>2</th>\n",
       "      <td>2000-01-12</td>\n",
       "      <td>479.0</td>\n",
       "      <td>479.00</td>\n",
       "      <td>471.50</td>\n",
       "      <td>472.50</td>\n",
       "      <td>3974.0</td>\n",
       "      <td>2029.0</td>\n",
       "      <td>2000</td>\n",
       "    </tr>\n",
       "    <tr>\n",
       "      <th>3</th>\n",
       "      <td>2000-01-11</td>\n",
       "      <td>465.0</td>\n",
       "      <td>470.75</td>\n",
       "      <td>464.00</td>\n",
       "      <td>467.00</td>\n",
       "      <td>4544.0</td>\n",
       "      <td>2841.0</td>\n",
       "      <td>2000</td>\n",
       "    </tr>\n",
       "    <tr>\n",
       "      <th>4</th>\n",
       "      <td>2000-01-10</td>\n",
       "      <td>466.0</td>\n",
       "      <td>469.25</td>\n",
       "      <td>465.00</td>\n",
       "      <td>466.25</td>\n",
       "      <td>6265.0</td>\n",
       "      <td>3635.0</td>\n",
       "      <td>2000</td>\n",
       "    </tr>\n",
       "    <tr>\n",
       "      <th>5</th>\n",
       "      <td>2000-01-07</td>\n",
       "      <td>467.5</td>\n",
       "      <td>472.00</td>\n",
       "      <td>466.50</td>\n",
       "      <td>471.50</td>\n",
       "      <td>8942.0</td>\n",
       "      <td>4491.0</td>\n",
       "      <td>2000</td>\n",
       "    </tr>\n",
       "    <tr>\n",
       "      <th>6</th>\n",
       "      <td>2000-01-06</td>\n",
       "      <td>469.5</td>\n",
       "      <td>473.00</td>\n",
       "      <td>468.00</td>\n",
       "      <td>468.00</td>\n",
       "      <td>7559.0</td>\n",
       "      <td>6477.0</td>\n",
       "      <td>2000</td>\n",
       "    </tr>\n",
       "    <tr>\n",
       "      <th>7</th>\n",
       "      <td>2000-01-05</td>\n",
       "      <td>464.0</td>\n",
       "      <td>470.00</td>\n",
       "      <td>462.50</td>\n",
       "      <td>469.25</td>\n",
       "      <td>11035.0</td>\n",
       "      <td>7495.0</td>\n",
       "      <td>2000</td>\n",
       "    </tr>\n",
       "    <tr>\n",
       "      <th>8</th>\n",
       "      <td>2000-01-04</td>\n",
       "      <td>458.5</td>\n",
       "      <td>466.00</td>\n",
       "      <td>458.25</td>\n",
       "      <td>464.25</td>\n",
       "      <td>8543.0</td>\n",
       "      <td>10015.0</td>\n",
       "      <td>2000</td>\n",
       "    </tr>\n",
       "    <tr>\n",
       "      <th>9</th>\n",
       "      <td>2000-01-03</td>\n",
       "      <td>464.0</td>\n",
       "      <td>466.00</td>\n",
       "      <td>455.75</td>\n",
       "      <td>456.50</td>\n",
       "      <td>6168.0</td>\n",
       "      <td>11516.0</td>\n",
       "      <td>2000</td>\n",
       "    </tr>\n",
       "  </tbody>\n",
       "</table>\n",
       "</div>"
      ],
      "text/plain": [
       "        Date   Open    High     Low   Close   Volume  Open_Interest  Year\n",
       "0 2000-01-14  480.0  490.00  480.00  485.50    992.0          175.0  2000\n",
       "1 2000-01-13  472.5  483.50  471.00  481.75   1821.0         1296.0  2000\n",
       "2 2000-01-12  479.0  479.00  471.50  472.50   3974.0         2029.0  2000\n",
       "3 2000-01-11  465.0  470.75  464.00  467.00   4544.0         2841.0  2000\n",
       "4 2000-01-10  466.0  469.25  465.00  466.25   6265.0         3635.0  2000\n",
       "5 2000-01-07  467.5  472.00  466.50  471.50   8942.0         4491.0  2000\n",
       "6 2000-01-06  469.5  473.00  468.00  468.00   7559.0         6477.0  2000\n",
       "7 2000-01-05  464.0  470.00  462.50  469.25  11035.0         7495.0  2000\n",
       "8 2000-01-04  458.5  466.00  458.25  464.25   8543.0        10015.0  2000\n",
       "9 2000-01-03  464.0  466.00  455.75  456.50   6168.0        11516.0  2000"
      ]
     },
     "execution_count": 13,
     "metadata": {},
     "output_type": "execute_result"
    }
   ],
   "source": [
    "# verificando as primeiras linhas de cada coluna (variável) do dataframe\n",
    "pd.set_option('display.width', 100)\n",
    "df_milk.head(10)"
   ]
  },
  {
   "cell_type": "markdown",
   "metadata": {},
   "source": [
    "- Observamos que temos uma variável de data (Date) e as demais numéricas.\n",
    "- Vamos manter as variáveis como estão e aprofundar mais em suas características."
   ]
  },
  {
   "cell_type": "code",
   "execution_count": null,
   "metadata": {},
   "outputs": [
    {
     "data": {
      "text/plain": [
       "Date\n",
       "1998     36\n",
       "1999    251\n",
       "2000    290\n",
       "2001    272\n",
       "2002    344\n",
       "2003    306\n",
       "2004    316\n",
       "2005    359\n",
       "2006    356\n",
       "2007    441\n",
       "2008    401\n",
       "2009    545\n",
       "2010    547\n",
       "2011    514\n",
       "2012    547\n",
       "2013    546\n",
       "2014    546\n",
       "2015    546\n",
       "2016    546\n",
       "2017    543\n",
       "2018    545\n",
       "2019    545\n",
       "2020    515\n",
       "2021    261\n",
       "2022     10\n",
       "Name: Date, dtype: int64"
      ]
     },
     "execution_count": 14,
     "metadata": {},
     "output_type": "execute_result"
    }
   ],
   "source": [
    "# verificando o número de linhas de cada ano\n",
    "df_milk.groupby(df_milk['Date'].dt.year)['Date'].count()"
   ]
  },
  {
   "cell_type": "code",
   "execution_count": null,
   "metadata": {},
   "outputs": [],
   "source": [
    "# apagando o ano de 1998 e 2022 por ter poucas linhas em relação aos demais anos\n",
    "df_milk = df_milk.drop(df_milk.loc[df_milk['Date'].dt.year==1998].index)\n",
    "df_milk = df_milk.drop(df_milk.loc[df_milk['Date'].dt.year==2022].index)"
   ]
  },
  {
   "cell_type": "code",
   "execution_count": null,
   "metadata": {},
   "outputs": [],
   "source": [
    "# organizando o dataframe pela data (Date)\n",
    "df_milk = df_milk.sort_values('Date')"
   ]
  },
  {
   "cell_type": "code",
   "execution_count": null,
   "metadata": {},
   "outputs": [],
   "source": [
    "# atualizando a numeração do indice do dataframe\n",
    "df_milk = df_milk.reset_index()\n",
    "df_milk = df_milk.drop('index', axis=1)"
   ]
  },
  {
   "cell_type": "code",
   "execution_count": null,
   "metadata": {},
   "outputs": [
    {
     "name": "stdout",
     "output_type": "stream",
     "text": [
      "<class 'pandas.core.frame.DataFrame'>\n",
      "RangeIndex: 9276 entries, 0 to 9275\n",
      "Data columns (total 8 columns):\n",
      " #   Column         Non-Null Count  Dtype         \n",
      "---  ------         --------------  -----         \n",
      " 0   Date           9276 non-null   datetime64[ns]\n",
      " 1   Open           9276 non-null   float64       \n",
      " 2   High           9276 non-null   float64       \n",
      " 3   Low            9276 non-null   float64       \n",
      " 4   Close          9276 non-null   float64       \n",
      " 5   Volume         9276 non-null   float64       \n",
      " 6   Open_Interest  9276 non-null   float64       \n",
      " 7   Year           9276 non-null   int32         \n",
      "dtypes: datetime64[ns](1), float64(6), int32(1)\n",
      "memory usage: 543.6 KB\n"
     ]
    }
   ],
   "source": [
    "# verificando como ficou a estrutura do dataframe\n",
    "df_milk.info()"
   ]
  },
  {
   "cell_type": "code",
   "execution_count": null,
   "metadata": {},
   "outputs": [],
   "source": [
    "# montando a query para agrupar a média anual de alguns valores mais interessantes da cotação\n",
    "from pandasql import sqldf\n",
    "\n",
    "df_milk_ano = sqldf(\n",
    "             \" select Year, avg(Close) as Close,\" \\\n",
    "             \"        avg(Volume) as Volume, avg(Open_Interest) as Open_Interest\"\n",
    "             \" from df_milk \" \\\n",
    "             \" group by 1 \" \\\n",
    "             \" order by 1 \"\n",
    "             )"
   ]
  },
  {
   "cell_type": "code",
   "execution_count": null,
   "metadata": {},
   "outputs": [
    {
     "data": {
      "text/html": [
       "<div>\n",
       "<style scoped>\n",
       "    .dataframe tbody tr th:only-of-type {\n",
       "        vertical-align: middle;\n",
       "    }\n",
       "\n",
       "    .dataframe tbody tr th {\n",
       "        vertical-align: top;\n",
       "    }\n",
       "\n",
       "    .dataframe thead th {\n",
       "        text-align: right;\n",
       "    }\n",
       "</style>\n",
       "<table border=\"1\" class=\"dataframe\">\n",
       "  <thead>\n",
       "    <tr style=\"text-align: right;\">\n",
       "      <th></th>\n",
       "      <th>Year</th>\n",
       "      <th>Close</th>\n",
       "      <th>Volume</th>\n",
       "      <th>Open_Interest</th>\n",
       "    </tr>\n",
       "  </thead>\n",
       "  <tbody>\n",
       "    <tr>\n",
       "      <th>0</th>\n",
       "      <td>1999</td>\n",
       "      <td>494.774900</td>\n",
       "      <td>6241.031873</td>\n",
       "      <td>20862.055777</td>\n",
       "    </tr>\n",
       "    <tr>\n",
       "      <th>1</th>\n",
       "      <td>2000</td>\n",
       "      <td>515.311798</td>\n",
       "      <td>5973.734082</td>\n",
       "      <td>18628.430712</td>\n",
       "    </tr>\n",
       "    <tr>\n",
       "      <th>2</th>\n",
       "      <td>2001</td>\n",
       "      <td>465.935328</td>\n",
       "      <td>6528.814672</td>\n",
       "      <td>19288.749035</td>\n",
       "    </tr>\n",
       "    <tr>\n",
       "      <th>3</th>\n",
       "      <td>2002</td>\n",
       "      <td>510.805195</td>\n",
       "      <td>6486.564935</td>\n",
       "      <td>18701.701299</td>\n",
       "    </tr>\n",
       "    <tr>\n",
       "      <th>4</th>\n",
       "      <td>2003</td>\n",
       "      <td>600.986111</td>\n",
       "      <td>10197.392593</td>\n",
       "      <td>26183.707407</td>\n",
       "    </tr>\n",
       "    <tr>\n",
       "      <th>5</th>\n",
       "      <td>2004</td>\n",
       "      <td>637.058929</td>\n",
       "      <td>7763.796429</td>\n",
       "      <td>22981.889286</td>\n",
       "    </tr>\n",
       "    <tr>\n",
       "      <th>6</th>\n",
       "      <td>2005</td>\n",
       "      <td>612.671827</td>\n",
       "      <td>7574.046440</td>\n",
       "      <td>27300.061920</td>\n",
       "    </tr>\n",
       "    <tr>\n",
       "      <th>7</th>\n",
       "      <td>2006</td>\n",
       "      <td>621.449219</td>\n",
       "      <td>4392.878125</td>\n",
       "      <td>38252.915625</td>\n",
       "    </tr>\n",
       "    <tr>\n",
       "      <th>8</th>\n",
       "      <td>2007</td>\n",
       "      <td>893.030172</td>\n",
       "      <td>3452.514778</td>\n",
       "      <td>41834.189655</td>\n",
       "    </tr>\n",
       "    <tr>\n",
       "      <th>9</th>\n",
       "      <td>2008</td>\n",
       "      <td>1171.872175</td>\n",
       "      <td>1657.138418</td>\n",
       "      <td>33738.039548</td>\n",
       "    </tr>\n",
       "    <tr>\n",
       "      <th>10</th>\n",
       "      <td>2009</td>\n",
       "      <td>956.653386</td>\n",
       "      <td>10303.342629</td>\n",
       "      <td>30003.310757</td>\n",
       "    </tr>\n",
       "    <tr>\n",
       "      <th>11</th>\n",
       "      <td>2010</td>\n",
       "      <td>1029.475980</td>\n",
       "      <td>12403.031373</td>\n",
       "      <td>40609.543137</td>\n",
       "    </tr>\n",
       "    <tr>\n",
       "      <th>12</th>\n",
       "      <td>2011</td>\n",
       "      <td>1293.172708</td>\n",
       "      <td>13783.390192</td>\n",
       "      <td>39868.070362</td>\n",
       "    </tr>\n",
       "    <tr>\n",
       "      <th>13</th>\n",
       "      <td>2012</td>\n",
       "      <td>1347.442231</td>\n",
       "      <td>14076.031873</td>\n",
       "      <td>44512.318725</td>\n",
       "    </tr>\n",
       "    <tr>\n",
       "      <th>14</th>\n",
       "      <td>2013</td>\n",
       "      <td>1254.856076</td>\n",
       "      <td>13824.209163</td>\n",
       "      <td>37955.227092</td>\n",
       "    </tr>\n",
       "    <tr>\n",
       "      <th>15</th>\n",
       "      <td>2014</td>\n",
       "      <td>1105.537425</td>\n",
       "      <td>15414.419162</td>\n",
       "      <td>41997.656687</td>\n",
       "    </tr>\n",
       "    <tr>\n",
       "      <th>16</th>\n",
       "      <td>2015</td>\n",
       "      <td>936.258466</td>\n",
       "      <td>14614.434263</td>\n",
       "      <td>38452.414343</td>\n",
       "    </tr>\n",
       "    <tr>\n",
       "      <th>17</th>\n",
       "      <td>2016</td>\n",
       "      <td>964.665837</td>\n",
       "      <td>15200.569721</td>\n",
       "      <td>41083.189243</td>\n",
       "    </tr>\n",
       "    <tr>\n",
       "      <th>18</th>\n",
       "      <td>2017</td>\n",
       "      <td>980.100200</td>\n",
       "      <td>15067.256513</td>\n",
       "      <td>42423.352705</td>\n",
       "    </tr>\n",
       "    <tr>\n",
       "      <th>19</th>\n",
       "      <td>2018</td>\n",
       "      <td>954.262500</td>\n",
       "      <td>14349.962000</td>\n",
       "      <td>49977.834000</td>\n",
       "    </tr>\n",
       "    <tr>\n",
       "      <th>20</th>\n",
       "      <td>2019</td>\n",
       "      <td>937.391176</td>\n",
       "      <td>14807.956863</td>\n",
       "      <td>46861.472549</td>\n",
       "    </tr>\n",
       "    <tr>\n",
       "      <th>21</th>\n",
       "      <td>2020</td>\n",
       "      <td>940.882143</td>\n",
       "      <td>18923.048980</td>\n",
       "      <td>59550.159184</td>\n",
       "    </tr>\n",
       "    <tr>\n",
       "      <th>22</th>\n",
       "      <td>2021</td>\n",
       "      <td>1291.821285</td>\n",
       "      <td>29331.309237</td>\n",
       "      <td>83617.742972</td>\n",
       "    </tr>\n",
       "  </tbody>\n",
       "</table>\n",
       "</div>"
      ],
      "text/plain": [
       "    Year        Close        Volume  Open_Interest\n",
       "0   1999   494.774900   6241.031873   20862.055777\n",
       "1   2000   515.311798   5973.734082   18628.430712\n",
       "2   2001   465.935328   6528.814672   19288.749035\n",
       "3   2002   510.805195   6486.564935   18701.701299\n",
       "4   2003   600.986111  10197.392593   26183.707407\n",
       "5   2004   637.058929   7763.796429   22981.889286\n",
       "6   2005   612.671827   7574.046440   27300.061920\n",
       "7   2006   621.449219   4392.878125   38252.915625\n",
       "8   2007   893.030172   3452.514778   41834.189655\n",
       "9   2008  1171.872175   1657.138418   33738.039548\n",
       "10  2009   956.653386  10303.342629   30003.310757\n",
       "11  2010  1029.475980  12403.031373   40609.543137\n",
       "12  2011  1293.172708  13783.390192   39868.070362\n",
       "13  2012  1347.442231  14076.031873   44512.318725\n",
       "14  2013  1254.856076  13824.209163   37955.227092\n",
       "15  2014  1105.537425  15414.419162   41997.656687\n",
       "16  2015   936.258466  14614.434263   38452.414343\n",
       "17  2016   964.665837  15200.569721   41083.189243\n",
       "18  2017   980.100200  15067.256513   42423.352705\n",
       "19  2018   954.262500  14349.962000   49977.834000\n",
       "20  2019   937.391176  14807.956863   46861.472549\n",
       "21  2020   940.882143  18923.048980   59550.159184\n",
       "22  2021  1291.821285  29331.309237   83617.742972"
      ]
     },
     "execution_count": 20,
     "metadata": {},
     "output_type": "execute_result"
    }
   ],
   "source": [
    "# dataframe da média dos valores para plotar a evolução anual\n",
    "df_milk_ano"
   ]
  },
  {
   "cell_type": "code",
   "execution_count": null,
   "metadata": {},
   "outputs": [
    {
     "data": {
      "image/png": "[encoded data removed]",
      "text/plain": [
       "<Figure size 1000x500 with 1 Axes>"
      ]
     },
     "metadata": {},
     "output_type": "display_data"
    }
   ],
   "source": [
    "# plotando a evolução de algumas valores mais importantes na transação de títulos (contratos) por ano\n",
    "# obs: média anual dos valores\n",
    "fig,ax = plt.subplots(ncols=1,figsize=(10,5))\n",
    "\n",
    "plt.plot(df_milk_ano.Year, df_milk_ano.Close*10, label = \"(Preço médio)*10 de fechamento no ano\", linewidth=4, color='red') \n",
    "plt.plot(df_milk_ano.Year, df_milk_ano.Volume, label = \"Nro médio de títulos no ano\", linewidth=4, color='blue') \n",
    "plt.plot(df_milk_ano.Year, df_milk_ano.Open_Interest, label = \"Fluxo médio de vrs no ano\", linewidth=4, color='orange')  \n",
    "\n",
    "plt.title('Valores médio no ano')\n",
    "plt.legend() \n",
    "\n",
    "plt.savefig('grafic_image/valores_medio_ano.png', format='png')\n",
    "plt.show()"
   ]
  },
  {
   "cell_type": "markdown",
   "metadata": {},
   "source": [
    "Observamos que a média dos valores de fechamento, nro de títulos negociados e fluxo de valores transacionados de 1999 a 2020 tiveram um crescimento mais uniforme, tendo uma alta mais brusca de 2020 a 2021.\n",
    "*Obs: o preço médio de fechamento foi multiplicado por 10 para fins de facilitar a comparação da curva da evolução dos valores com as demais curvas."
   ]
  },
  {
   "cell_type": "code",
   "execution_count": null,
   "metadata": {},
   "outputs": [],
   "source": [
    "# salva os dados tratados em arquivo csv organizado pelo índice\n",
    "df_milk.sort_index().to_csv('df_treated/df_milk_treated.csv', index=False)"
   ]
  }
 ],
 "metadata": {
  "kernelspec": {
   "display_name": "Python 3",
   "language": "python",
   "name": "python3"
  },
  "language_info": {
   "codemirror_mode": {
    "name": "ipython",
    "version": 3
   },
   "file_extension": ".py",
   "mimetype": "text/x-python",
   "name": "python",
   "nbconvert_exporter": "python",
   "pygments_lexer": "ipython3",
   "version": "3.11.5"
  }
 },
 "nbformat": 4,
 "nbformat_minor": 2
}
