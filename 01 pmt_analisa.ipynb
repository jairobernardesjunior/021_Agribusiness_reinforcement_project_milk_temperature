{
 "cells": [
  {
   "cell_type": "markdown",
   "metadata": {},
   "source": [
    "## Projeto Milk Temperature\n",
    "\n",
    "### Objective:\n",
    "- In this project we are going to the investigative phase of Milk_Diagnostic (a device for collecting and sending milk data on the farm via SMS), we are going to carry out a survey of the variation in milk temperature over a given period. Here we will make a prediction of these temperatures, using reinforcement learning for the next few minutes to alert both the producer and the collecting company about a possible spike in the temperature of the milk stored on the farm, before the event happens.\n",
    "\n",
    "- Nesse projeto vamos para a fase investigatória do Milk_Diagnostic (aparelho de coleta e envio de dados do leite na fazenda via sms), vamos fazer um levantamento da variação da temperatura do leite em determinado período. Aqui vamos fazer uma predição dessas temperaturas, utilizando aprendizado por reforço para os próximos minutos para alertar tanto o produtor quanto a empresa captadora sobre um possível pico da temperatura do leite armazenado na fazenda, antes que o evento aconteça.\n",
    "\n",
    "### Data Origin:\n",
    "- Dataset: MILK_temperature.TXT\n",
    "\n",
    "- Through the Milk_Diagnostic equipment (device for collecting and sending milk data on the farm via SMS) data on milk temperature, ambient temperature, date, time, humidity, geographic coordinates, are transferred daily from the farm's milk reservoir every 10 minutes (configurable), 24 hours a day, 7 days a week.\n",
    "\n",
    "- Através do equipamento Milk_Diagnostic (aparelho de coleta e envio de dados do leite na fazenda via sms)os dados de temperatura do leite, temperatura ambiente, data, hora, umidade, coordenadas geográficas, são transferidos diariamente do reservatório de leite da fazenda a cada 10 minutos (configurável), 24 horas por dia durante os 7 dias da semana.\n",
    "\n",
    "- Aqui está o que as colunas representam:\n",
    "\n",
    "    local: identificador da fazendo origem do leite\n",
    "    data: data da coleta da temperatura\n",
    "    hora: hora, minutos e segundos da coleta da temperatura\n",
    "    lat: latitude do local da fazenda\n",
    "    long: longitude do local da fazenda\n",
    "    umidade: umidade ambiente do local do tanque de leite\n",
    "    t_ex: temperatura ambiente do local do tanque de leite\n",
    "    t1, t2, t3, t4, t5, t6, t7, t8: \n",
    "        temperaturas coletadas dentro do intervalo configurado para envio (10 minutos para esse trabalho)\n"
   ]
  },
  {
   "cell_type": "markdown",
   "metadata": {},
   "source": [
    "- ## Análise exploratória dos dados\n",
    "- ## Preparação dos dados\n",
    "- ## Armazenamento dos dados tratados"
   ]
  },
  {
   "cell_type": "code",
   "execution_count": 1782,
   "metadata": {},
   "outputs": [],
   "source": [
    "# maximiza nro de linhas e colunas para exibição\n",
    "# inibe mensagens de warning\n",
    "import pandas as pd\n",
    "pd.set_option('display.max_rows', None) # permite a máxima visualização das linhas em um display\n",
    "pd.set_option('display.max_columns', None) # permite a máxima visualização das colunas em um display\n",
    "import warnings\n",
    "warnings.simplefilter('ignore') # inibe a exibição de avisos de warning"
   ]
  },
  {
   "cell_type": "code",
   "execution_count": 1783,
   "metadata": {},
   "outputs": [],
   "source": [
    "# preparação e visualização de dados\n",
    "from matplotlib import pyplot as plt # plotagem gráfica"
   ]
  },
  {
   "cell_type": "code",
   "execution_count": null,
   "metadata": {},
   "outputs": [],
   "source": [
    "# carregando dados do arquivo\n",
    "# juntando os anos de cotação\n",
    "# para uma atualização em 'tempo real' da cotação da bolsa podemos utilizar o quandl da Nasdaq já mencionado anteriormente\n",
    "\n",
    "df_milk = pd.read_csv('dataset/MILK_temperature.csv', sep='p')"
   ]
  },
  {
   "cell_type": "code",
   "execution_count": 1785,
   "metadata": {},
   "outputs": [
    {
     "data": {
      "text/plain": [
       "(14327, 16)"
      ]
     },
     "execution_count": 1785,
     "metadata": {},
     "output_type": "execute_result"
    }
   ],
   "source": [
    "# verificando a quantidade de linhas e colunas do dataframe\n",
    "df_milk.shape"
   ]
  },
  {
   "cell_type": "code",
   "execution_count": 1786,
   "metadata": {},
   "outputs": [
    {
     "data": {
      "text/html": [
       "<div>\n",
       "<style scoped>\n",
       "    .dataframe tbody tr th:only-of-type {\n",
       "        vertical-align: middle;\n",
       "    }\n",
       "\n",
       "    .dataframe tbody tr th {\n",
       "        vertical-align: top;\n",
       "    }\n",
       "\n",
       "    .dataframe thead th {\n",
       "        text-align: right;\n",
       "    }\n",
       "</style>\n",
       "<table border=\"1\" class=\"dataframe\">\n",
       "  <thead>\n",
       "    <tr style=\"text-align: right;\">\n",
       "      <th></th>\n",
       "      <th>local</th>\n",
       "      <th>data</th>\n",
       "      <th>hora</th>\n",
       "      <th>lat</th>\n",
       "      <th>long</th>\n",
       "      <th>umidade</th>\n",
       "      <th>t_ex</th>\n",
       "      <th>t1</th>\n",
       "      <th>t2</th>\n",
       "      <th>t3</th>\n",
       "      <th>t4</th>\n",
       "      <th>t5</th>\n",
       "      <th>t6</th>\n",
       "      <th>t7</th>\n",
       "      <th>t8</th>\n",
       "      <th>Unnamed: 15</th>\n",
       "    </tr>\n",
       "  </thead>\n",
       "  <tbody>\n",
       "    <tr>\n",
       "      <th>0</th>\n",
       "      <td>1</td>\n",
       "      <td>0/ 0/2000</td>\n",
       "      <td>6:36:19</td>\n",
       "      <td>-18.918142</td>\n",
       "      <td>-48.230560</td>\n",
       "      <td>67.000000</td>\n",
       "      <td>26.799999</td>\n",
       "      <td>NAN</td>\n",
       "      <td>10.7400</td>\n",
       "      <td>0.0</td>\n",
       "      <td>0.0</td>\n",
       "      <td>0.0</td>\n",
       "      <td>0.0</td>\n",
       "      <td>0.0</td>\n",
       "      <td>0.0</td>\n",
       "      <td>NaN</td>\n",
       "    </tr>\n",
       "    <tr>\n",
       "      <th>1</th>\n",
       "      <td>1</td>\n",
       "      <td>0/ 0/2000</td>\n",
       "      <td>8:14:46</td>\n",
       "      <td>-18.918184</td>\n",
       "      <td>-48.230553</td>\n",
       "      <td>53.000000</td>\n",
       "      <td>26.700001</td>\n",
       "      <td>NAN</td>\n",
       "      <td>25.0525</td>\n",
       "      <td>0.0</td>\n",
       "      <td>0.0</td>\n",
       "      <td>0.0</td>\n",
       "      <td>0.0</td>\n",
       "      <td>0.0</td>\n",
       "      <td>0.0</td>\n",
       "      <td>NaN</td>\n",
       "    </tr>\n",
       "    <tr>\n",
       "      <th>2</th>\n",
       "      <td>1</td>\n",
       "      <td>0/ 0/2000</td>\n",
       "      <td>8:34:31</td>\n",
       "      <td>-18.918177</td>\n",
       "      <td>-48.230583</td>\n",
       "      <td>44.000000</td>\n",
       "      <td>26.600000</td>\n",
       "      <td>NAN</td>\n",
       "      <td>24.1150</td>\n",
       "      <td>0.0</td>\n",
       "      <td>0.0</td>\n",
       "      <td>0.0</td>\n",
       "      <td>0.0</td>\n",
       "      <td>0.0</td>\n",
       "      <td>0.0</td>\n",
       "      <td>NaN</td>\n",
       "    </tr>\n",
       "  </tbody>\n",
       "</table>\n",
       "</div>"
      ],
      "text/plain": [
       "   local        data      hora        lat       long    umidade       t_ex  \\\n",
       "0      1   0/ 0/2000   6:36:19 -18.918142 -48.230560  67.000000  26.799999   \n",
       "1      1   0/ 0/2000   8:14:46 -18.918184 -48.230553  53.000000  26.700001   \n",
       "2      1   0/ 0/2000   8:34:31 -18.918177 -48.230583  44.000000  26.600000   \n",
       "\n",
       "          t1       t2   t3   t4   t5   t6   t7   t8  Unnamed: 15  \n",
       "0        NAN  10.7400  0.0  0.0  0.0  0.0  0.0  0.0          NaN  \n",
       "1        NAN  25.0525  0.0  0.0  0.0  0.0  0.0  0.0          NaN  \n",
       "2        NAN  24.1150  0.0  0.0  0.0  0.0  0.0  0.0          NaN  "
      ]
     },
     "execution_count": 1786,
     "metadata": {},
     "output_type": "execute_result"
    }
   ],
   "source": [
    "# verificando as primeiras linhas de dados\n",
    "df_milk.head(3)"
   ]
  },
  {
   "cell_type": "code",
   "execution_count": 1787,
   "metadata": {},
   "outputs": [],
   "source": [
    "# eliminando a última coluna \n",
    "colunas = list(df_milk.columns)\n",
    "\n",
    "df_milk = df_milk[colunas[:15]]"
   ]
  },
  {
   "cell_type": "code",
   "execution_count": 1788,
   "metadata": {},
   "outputs": [
    {
     "name": "stdout",
     "output_type": "stream",
     "text": [
      "<class 'pandas.core.frame.DataFrame'>\n",
      "RangeIndex: 14327 entries, 0 to 14326\n",
      "Data columns (total 15 columns):\n",
      " #   Column   Non-Null Count  Dtype  \n",
      "---  ------   --------------  -----  \n",
      " 0   local    14327 non-null  int64  \n",
      " 1   data     14327 non-null  object \n",
      " 2   hora     14327 non-null  object \n",
      " 3   lat      14327 non-null  float64\n",
      " 4   long     14327 non-null  float64\n",
      " 5   umidade  14327 non-null  object \n",
      " 6   t_ex     14327 non-null  object \n",
      " 7   t1       14327 non-null  object \n",
      " 8   t2       14327 non-null  float64\n",
      " 9   t3       14327 non-null  float64\n",
      " 10  t4       14327 non-null  float64\n",
      " 11  t5       14327 non-null  float64\n",
      " 12  t6       14327 non-null  float64\n",
      " 13  t7       14327 non-null  float64\n",
      " 14  t8       14327 non-null  float64\n",
      "dtypes: float64(9), int64(1), object(5)\n",
      "memory usage: 1.6+ MB\n"
     ]
    }
   ],
   "source": [
    "df_milk.info()"
   ]
  },
  {
   "cell_type": "code",
   "execution_count": 1789,
   "metadata": {},
   "outputs": [
    {
     "data": {
      "text/plain": [
       "array([' 0/ 0/2000', ' 1/ 8/2023', ' 1/ 9/2023', ' 1/10/2023',\n",
       "       ' 1/11/2023', ' 2/ 8/2023', ' 2/10/2023', ' 2/11/2023',\n",
       "       ' 3/ 8/2023', ' 3/10/2023', ' 3/11/2023', ' 4/ 8/2023',\n",
       "       ' 4/ 9/2023', ' 4/10/2023', ' 4/11/2023', ' 5/ 8/2023',\n",
       "       ' 5/10/2023', ' 5/11/2023', ' 5/12/2023', ' 6/ 8/2023',\n",
       "       ' 6/10/2023', ' 6/11/2023', ' 7/ 8/2023', ' 7/10/2023',\n",
       "       ' 7/11/2023', ' 8/ 9/2023', ' 8/10/2023', ' 8/11/2023',\n",
       "       ' 9/ 8/2023', ' 9/ 9/2023', ' 9/10/2023', ' 9/11/2023',\n",
       "       ' 9/12/2023', '10/ 9/2023', '10/10/2023', '10/11/2023',\n",
       "       '11/ 8/2023', '11/ 9/2023', '11/10/2023', '12/ 9/2023',\n",
       "       '12/10/2023', '13/ 7/2023', '13/ 8/2023', '13/ 9/2023',\n",
       "       '13/10/2023', '14/ 7/2023', '14/ 8/2023', '14/ 9/2023',\n",
       "       '14/10/2023', '15/ 7/2023', '15/ 8/2023', '15/ 9/2023',\n",
       "       '15/10/2023', '16/ 7/2023', '16/ 9/2023', '16/10/2023',\n",
       "       '17/ 7/2023', '17/ 9/2023', '17/10/2023', '18/ 7/2023',\n",
       "       '18/ 9/2023', '18/10/2023', '19/ 7/2023', '19/ 9/2023',\n",
       "       '19/10/2023', '20/ 7/2023', '20/ 9/2023', '20/10/2023',\n",
       "       '21/ 7/2023', '21/ 9/2023', '21/10/2023', '22/ 7/2023',\n",
       "       '22/ 8/2023', '22/ 9/2023', '22/10/2023', '23/ 7/2023',\n",
       "       '23/ 8/2023', '23/ 9/2023', '23/10/2023', '24/ 7/2023',\n",
       "       '24/ 9/2023', '24/10/2023', '25/ 7/2023', '25/ 9/2023',\n",
       "       '25/10/2023', '26/ 7/2023', '26/ 9/2023', '26/10/2023',\n",
       "       '27/ 7/2023', '27/ 9/2023', '27/10/2023', '28/ 7/2023',\n",
       "       '28/ 8/2023', '28/ 9/2023', '28/10/2023', '29/ 7/2023',\n",
       "       '29/ 8/2023', '29/ 9/2023', '29/10/2023', '30/ 7/2023',\n",
       "       '30/ 8/2023', '30/ 9/2023', '30/10/2023', '31/ 7/2023',\n",
       "       '31/ 8/2023', '31/10/2023'], dtype=object)"
      ]
     },
     "execution_count": 1789,
     "metadata": {},
     "output_type": "execute_result"
    }
   ],
   "source": [
    "# reconhecendo as primeiras linhas do dataframe\n",
    "df_milk.data.unique()"
   ]
  },
  {
   "cell_type": "code",
   "execution_count": 1790,
   "metadata": {},
   "outputs": [],
   "source": [
    "# eliminando data inválida\n",
    "df_remove = df_milk.loc[(df_milk['data'] == ' 0/ 0/2000')]\n",
    "df_milk = df_milk.drop(df_remove.index)"
   ]
  },
  {
   "cell_type": "code",
   "execution_count": 1791,
   "metadata": {},
   "outputs": [],
   "source": [
    "# troca espaços por zero na data\n",
    "def substitui_espacos_data(data): \n",
    "    return data.replace(' ', '0')"
   ]
  },
  {
   "cell_type": "code",
   "execution_count": 1792,
   "metadata": {},
   "outputs": [],
   "source": [
    "# troca espaços por zero na hora e modifica hora inválida para 00:00:59\n",
    "def substitui_espacos_hora(hora): \n",
    "    hora = hora.replace(' ', '0')\n",
    "    \n",
    "    if hora[3] == ':':\n",
    "        #hora = '0' + hora[2:]\n",
    "        hora = None\n",
    "\n",
    "    return hora"
   ]
  },
  {
   "cell_type": "code",
   "execution_count": 1793,
   "metadata": {},
   "outputs": [],
   "source": [
    "df_milk['data'] = df_milk['data'].apply(substitui_espacos_data)\n",
    "df_milk['hora'] = df_milk['hora'].apply(substitui_espacos_hora)"
   ]
  },
  {
   "cell_type": "code",
   "execution_count": 1794,
   "metadata": {},
   "outputs": [],
   "source": [
    "df_milk['data_hora'] = df_milk['data'] + ' ' + df_milk['hora']"
   ]
  },
  {
   "cell_type": "code",
   "execution_count": 1795,
   "metadata": {},
   "outputs": [],
   "source": [
    "# convertendo o tipo de dados da variável\n",
    "df_milk['t1'] = df_milk['t1'].astype('float64')\n",
    "df_milk['umidade'] = df_milk['umidade'].astype('float64')\n",
    "df_milk['t_ex'] = df_milk['t_ex'].astype('float64')\n",
    "df_milk['data_hora'] = df_milk['data_hora'].astype('datetime64[ns]')"
   ]
  },
  {
   "cell_type": "code",
   "execution_count": 1796,
   "metadata": {},
   "outputs": [],
   "source": [
    "# eliminando mês maior que 07\n",
    "df_remove = df_milk.loc[(df_milk.data_hora.dt.month > 6)]\n",
    "df_milk = df_milk.drop(df_remove.index)"
   ]
  },
  {
   "cell_type": "code",
   "execution_count": 1797,
   "metadata": {},
   "outputs": [],
   "source": [
    "# eliminando dados inválidos\n",
    "df_remove = df_milk.loc[(df_milk['t_ex'] < 0.1) | \n",
    "                        (df_milk['t1'] < 0.1) | \n",
    "                        (df_milk['t2'] < 0.1) | \n",
    "                        (df_milk['t3'] < 0.1) | \n",
    "                        (df_milk['t4'] < 0.1) | \n",
    "                        (df_milk['t5'] < 0.1) | \n",
    "                        (df_milk['t6'] < 0.1) | \n",
    "                        (df_milk['t7'] < 0.1) | \n",
    "                        (df_milk['t8'] < 0.1) | \n",
    "                        (df_milk['umidade'] < 0.1)\n",
    "                        ]\n",
    "df_milk = df_milk.drop(df_remove.index)"
   ]
  },
  {
   "cell_type": "code",
   "execution_count": 1798,
   "metadata": {},
   "outputs": [
    {
     "data": {
      "text/plain": [
       "local  data   hora   lat    long   umidade  t_ex   t1     t2     t3     t4     t5     t6     t7     t8     data_hora\n",
       "False  False  False  False  False  False    False  False  False  False  False  False  False  False  False  False        2058\n",
       "              True   False  False  False    False  False  False  False  False  False  False  False  False  True         1619\n",
       "              False  False  False  False    False  True   False  False  False  False  False  False  False  False           5\n",
       "Name: count, dtype: int64"
      ]
     },
     "execution_count": 1798,
     "metadata": {},
     "output_type": "execute_result"
    }
   ],
   "source": [
    "# verificando a existência de nulos\n",
    "df_milk.isnull().value_counts()"
   ]
  },
  {
   "cell_type": "code",
   "execution_count": 1799,
   "metadata": {},
   "outputs": [
    {
     "name": "stdout",
     "output_type": "stream",
     "text": [
      "<class 'pandas.core.frame.DataFrame'>\n",
      "Index: 3682 entries, 11 to 14326\n",
      "Data columns (total 16 columns):\n",
      " #   Column     Non-Null Count  Dtype         \n",
      "---  ------     --------------  -----         \n",
      " 0   local      3682 non-null   int64         \n",
      " 1   data       3682 non-null   object        \n",
      " 2   hora       2063 non-null   object        \n",
      " 3   lat        3682 non-null   float64       \n",
      " 4   long       3682 non-null   float64       \n",
      " 5   umidade    3682 non-null   float64       \n",
      " 6   t_ex       3682 non-null   float64       \n",
      " 7   t1         3677 non-null   float64       \n",
      " 8   t2         3682 non-null   float64       \n",
      " 9   t3         3682 non-null   float64       \n",
      " 10  t4         3682 non-null   float64       \n",
      " 11  t5         3682 non-null   float64       \n",
      " 12  t6         3682 non-null   float64       \n",
      " 13  t7         3682 non-null   float64       \n",
      " 14  t8         3682 non-null   float64       \n",
      " 15  data_hora  2063 non-null   datetime64[ns]\n",
      "dtypes: datetime64[ns](1), float64(12), int64(1), object(2)\n",
      "memory usage: 489.0+ KB\n"
     ]
    }
   ],
   "source": [
    "# verificando redefinição do tipo de dado da variável(coluna) Date\n",
    "# reconhecendo as variáveis disponíveis\n",
    "# verificando se há dados nulos\n",
    "df_milk.info()"
   ]
  },
  {
   "cell_type": "code",
   "execution_count": 1800,
   "metadata": {},
   "outputs": [
    {
     "data": {
      "text/plain": [
       "local           0\n",
       "data            0\n",
       "hora         1619\n",
       "lat             0\n",
       "long            0\n",
       "umidade         0\n",
       "t_ex            0\n",
       "t1              5\n",
       "t2              0\n",
       "t3              0\n",
       "t4              0\n",
       "t5              0\n",
       "t6              0\n",
       "t7              0\n",
       "t8              0\n",
       "data_hora    1619\n",
       "dtype: int64"
      ]
     },
     "execution_count": 1800,
     "metadata": {},
     "output_type": "execute_result"
    }
   ],
   "source": [
    "# confirmando a inexistência de nulos\n",
    "df_milk.isnull().sum()"
   ]
  },
  {
   "cell_type": "code",
   "execution_count": 1801,
   "metadata": {},
   "outputs": [],
   "source": [
    "# apagando linhas com nulos\n",
    "df_milk = df_milk.dropna()"
   ]
  },
  {
   "cell_type": "code",
   "execution_count": 1802,
   "metadata": {},
   "outputs": [
    {
     "data": {
      "text/plain": [
       "2"
      ]
     },
     "execution_count": 1802,
     "metadata": {},
     "output_type": "execute_result"
    }
   ],
   "source": [
    "# verificando se existe registros duplicados\n",
    "df_milk.duplicated().sum()"
   ]
  },
  {
   "cell_type": "code",
   "execution_count": 1803,
   "metadata": {},
   "outputs": [],
   "source": [
    "# apagando linhas duplicadas\n",
    "df_milk = df_milk.drop_duplicates()"
   ]
  },
  {
   "cell_type": "code",
   "execution_count": 1804,
   "metadata": {},
   "outputs": [
    {
     "data": {
      "text/plain": [
       "(2056, 16)"
      ]
     },
     "execution_count": 1804,
     "metadata": {},
     "output_type": "execute_result"
    }
   ],
   "source": [
    "df_milk.shape"
   ]
  },
  {
   "cell_type": "code",
   "execution_count": 1805,
   "metadata": {},
   "outputs": [],
   "source": [
    "df_milk = df_milk.sort_values(by='data_hora')"
   ]
  },
  {
   "cell_type": "code",
   "execution_count": 1806,
   "metadata": {},
   "outputs": [],
   "source": [
    "df_milk = df_milk.reset_index()\n",
    "df_milk = df_milk.drop(columns='index')"
   ]
  },
  {
   "cell_type": "code",
   "execution_count": 1807,
   "metadata": {},
   "outputs": [
    {
     "name": "stdout",
     "output_type": "stream",
     "text": [
      "<class 'pandas.core.frame.DataFrame'>\n",
      "RangeIndex: 2056 entries, 0 to 2055\n",
      "Data columns (total 16 columns):\n",
      " #   Column     Non-Null Count  Dtype         \n",
      "---  ------     --------------  -----         \n",
      " 0   local      2056 non-null   int64         \n",
      " 1   data       2056 non-null   object        \n",
      " 2   hora       2056 non-null   object        \n",
      " 3   lat        2056 non-null   float64       \n",
      " 4   long       2056 non-null   float64       \n",
      " 5   umidade    2056 non-null   float64       \n",
      " 6   t_ex       2056 non-null   float64       \n",
      " 7   t1         2056 non-null   float64       \n",
      " 8   t2         2056 non-null   float64       \n",
      " 9   t3         2056 non-null   float64       \n",
      " 10  t4         2056 non-null   float64       \n",
      " 11  t5         2056 non-null   float64       \n",
      " 12  t6         2056 non-null   float64       \n",
      " 13  t7         2056 non-null   float64       \n",
      " 14  t8         2056 non-null   float64       \n",
      " 15  data_hora  2056 non-null   datetime64[ns]\n",
      "dtypes: datetime64[ns](1), float64(12), int64(1), object(2)\n",
      "memory usage: 257.1+ KB\n"
     ]
    }
   ],
   "source": [
    "df_milk.info()"
   ]
  },
  {
   "cell_type": "code",
   "execution_count": 1808,
   "metadata": {},
   "outputs": [],
   "source": [
    "# apura a média\n",
    "df_milk['temp'] = (df_milk['t1'] + df_milk['t2'] + df_milk['t3'] + df_milk['t4'] + \\\n",
    "                   df_milk['t5'] + df_milk['t6'] + df_milk['t7'] + df_milk['t8']) / 8 "
   ]
  },
  {
   "cell_type": "code",
   "execution_count": 1809,
   "metadata": {},
   "outputs": [
    {
     "data": {
      "text/html": [
       "<div>\n",
       "<style scoped>\n",
       "    .dataframe tbody tr th:only-of-type {\n",
       "        vertical-align: middle;\n",
       "    }\n",
       "\n",
       "    .dataframe tbody tr th {\n",
       "        vertical-align: top;\n",
       "    }\n",
       "\n",
       "    .dataframe thead th {\n",
       "        text-align: right;\n",
       "    }\n",
       "</style>\n",
       "<table border=\"1\" class=\"dataframe\">\n",
       "  <thead>\n",
       "    <tr style=\"text-align: right;\">\n",
       "      <th></th>\n",
       "      <th>temp</th>\n",
       "      <th>t_ex</th>\n",
       "      <th>umidade</th>\n",
       "    </tr>\n",
       "  </thead>\n",
       "  <tbody>\n",
       "    <tr>\n",
       "      <th>0</th>\n",
       "      <td>24.423272</td>\n",
       "      <td>25.892607</td>\n",
       "      <td>47.418488</td>\n",
       "    </tr>\n",
       "    <tr>\n",
       "      <th>1</th>\n",
       "      <td>24.360077</td>\n",
       "      <td>25.869171</td>\n",
       "      <td>47.540405</td>\n",
       "    </tr>\n",
       "    <tr>\n",
       "      <th>2</th>\n",
       "      <td>24.278691</td>\n",
       "      <td>25.812103</td>\n",
       "      <td>47.464645</td>\n",
       "    </tr>\n",
       "    <tr>\n",
       "      <th>3</th>\n",
       "      <td>24.210923</td>\n",
       "      <td>25.660603</td>\n",
       "      <td>47.419193</td>\n",
       "    </tr>\n",
       "    <tr>\n",
       "      <th>4</th>\n",
       "      <td>24.170970</td>\n",
       "      <td>25.644939</td>\n",
       "      <td>47.535355</td>\n",
       "    </tr>\n",
       "    <tr>\n",
       "      <th>5</th>\n",
       "      <td>24.111838</td>\n",
       "      <td>25.609079</td>\n",
       "      <td>47.424244</td>\n",
       "    </tr>\n",
       "    <tr>\n",
       "      <th>6</th>\n",
       "      <td>24.066316</td>\n",
       "      <td>25.467169</td>\n",
       "      <td>47.166668</td>\n",
       "    </tr>\n",
       "    <tr>\n",
       "      <th>7</th>\n",
       "      <td>23.982315</td>\n",
       "      <td>25.413635</td>\n",
       "      <td>47.176769</td>\n",
       "    </tr>\n",
       "    <tr>\n",
       "      <th>8</th>\n",
       "      <td>23.893088</td>\n",
       "      <td>25.347979</td>\n",
       "      <td>47.060608</td>\n",
       "    </tr>\n",
       "    <tr>\n",
       "      <th>9</th>\n",
       "      <td>23.914008</td>\n",
       "      <td>25.316149</td>\n",
       "      <td>47.257576</td>\n",
       "    </tr>\n",
       "  </tbody>\n",
       "</table>\n",
       "</div>"
      ],
      "text/plain": [
       "        temp       t_ex    umidade\n",
       "0  24.423272  25.892607  47.418488\n",
       "1  24.360077  25.869171  47.540405\n",
       "2  24.278691  25.812103  47.464645\n",
       "3  24.210923  25.660603  47.419193\n",
       "4  24.170970  25.644939  47.535355\n",
       "5  24.111838  25.609079  47.424244\n",
       "6  24.066316  25.467169  47.166668\n",
       "7  23.982315  25.413635  47.176769\n",
       "8  23.893088  25.347979  47.060608\n",
       "9  23.914008  25.316149  47.257576"
      ]
     },
     "execution_count": 1809,
     "metadata": {},
     "output_type": "execute_result"
    }
   ],
   "source": [
    "df_milk[['temp', 't_ex', 'umidade']].head(10)"
   ]
  },
  {
   "cell_type": "code",
   "execution_count": 1810,
   "metadata": {},
   "outputs": [],
   "source": [
    "def temperatura_leite(temp):\n",
    "    if int(temp) > 4:\n",
    "        temp = (4 + (temp%1)) \n",
    "\n",
    "    if temp <= 4.2:\n",
    "        temp = (3 + (temp%1)) \n",
    "    elif temp <= 4.6:\n",
    "        temp = 4.0\n",
    "    elif temp <= 4.8:\n",
    "        temp = (5 + (temp%1)) \n",
    "    elif temp <= 4.9:\n",
    "        temp = (6 + (temp%1))\n",
    "    else:\n",
    "        temp = (7 + (temp%1))           \n",
    "        \n",
    "    return temp"
   ]
  },
  {
   "cell_type": "code",
   "execution_count": 1811,
   "metadata": {},
   "outputs": [],
   "source": [
    "df_milk.temp = df_milk['temp'].apply(temperatura_leite)"
   ]
  },
  {
   "cell_type": "code",
   "execution_count": 1813,
   "metadata": {},
   "outputs": [
    {
     "data": {
      "image/png": "[encoded data removed]",
      "text/plain": [
       "<Figure size 1500x500 with 1 Axes>"
      ]
     },
     "metadata": {},
     "output_type": "display_data"
    }
   ],
   "source": [
    "# plotando a evolução de algumas valores mais importantes na transação de títulos (contratos) por ano\n",
    "# obs: média anual dos valores\n",
    "fig,ax = plt.subplots(ncols=1,figsize=(15,5))\n",
    "\n",
    "plt.plot(df_milk.data_hora, df_milk.temp, label = \"Temperatura do Leite °C\", linewidth=1, color='red') \n",
    "\n",
    "plt.title('Temperatura do Leite')\n",
    "plt.legend() \n",
    "\n",
    "plt.savefig('grafic_image/Dados_temp_leite_fazenda.png', format='png')\n",
    "plt.show()"
   ]
  },
  {
   "cell_type": "code",
   "execution_count": 1814,
   "metadata": {},
   "outputs": [
    {
     "data": {
      "image/png": "[encoded data removed]",
      "text/plain": [
       "<Figure size 1500x500 with 1 Axes>"
      ]
     },
     "metadata": {},
     "output_type": "display_data"
    }
   ],
   "source": [
    "# plotando a evolução de algumas valores mais importantes na transação de títulos (contratos) por ano\n",
    "# obs: média anual dos valores\n",
    "fig,ax = plt.subplots(ncols=1,figsize=(15,5))\n",
    "\n",
    "plt.plot(df_milk.data_hora, df_milk.t_ex, label = \"Temperatura Ambiente °C\", linewidth=1, color='blue') \n",
    "plt.plot(df_milk.data_hora, df_milk.umidade, label = \"Umidade Ambiente %\", linewidth=1, color='orange')  \n",
    "\n",
    "plt.title('Temperatura Ambiente - Umidade Ambiente')\n",
    "plt.legend() \n",
    "\n",
    "plt.savefig('grafic_image/Dados_ambiente_leite_fazenda.png', format='png')\n",
    "plt.show()"
   ]
  },
  {
   "cell_type": "markdown",
   "metadata": {},
   "source": [
    "Observamos que a média dos valores de fechamento, nro de títulos negociados e fluxo de valores transacionados de 1999 a 2020 tiveram um crescimento mais uniforme, tendo uma alta mais brusca de 2020 a 2021.\n",
    "*Obs: o preço médio de fechamento foi multiplicado por 10 para fins de facilitar a comparação da curva da evolução dos valores com as demais curvas."
   ]
  },
  {
   "cell_type": "code",
   "execution_count": 1815,
   "metadata": {},
   "outputs": [],
   "source": [
    "# salva os dados tratados em arquivo csv organizado pelo índice\n",
    "df_milk.sort_index().to_csv('df_treated/df_milk_temperature_treated.csv', index=False)"
   ]
  }
 ],
 "metadata": {
  "kernelspec": {
   "display_name": "Python 3",
   "language": "python",
   "name": "python3"
  },
  "language_info": {
   "codemirror_mode": {
    "name": "ipython",
    "version": 3
   },
   "file_extension": ".py",
   "mimetype": "text/x-python",
   "name": "python",
   "nbconvert_exporter": "python",
   "pygments_lexer": "ipython3",
   "version": "3.11.5"
  }
 },
 "nbformat": 4,
 "nbformat_minor": 2
}
